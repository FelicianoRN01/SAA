{
 "cells": [
  {
   "cell_type": "code",
   "execution_count": 11,
   "metadata": {},
   "outputs": [],
   "source": [
    "import pandas as pd\n",
    "import matplotlib.pyplot as plt\n",
    "from sklearn.ensemble import RandomForestRegressor\n",
    "from sklearn.model_selection import train_test_split\n",
    "from sklearn.metrics import mean_squared_error\n",
    "from sklearn.linear_model import LinearRegression"
   ]
  },
  {
   "cell_type": "code",
   "execution_count": 12,
   "metadata": {},
   "outputs": [
    {
     "data": {
      "text/html": [
       "<div>\n",
       "<style scoped>\n",
       "    .dataframe tbody tr th:only-of-type {\n",
       "        vertical-align: middle;\n",
       "    }\n",
       "\n",
       "    .dataframe tbody tr th {\n",
       "        vertical-align: top;\n",
       "    }\n",
       "\n",
       "    .dataframe thead th {\n",
       "        text-align: right;\n",
       "    }\n",
       "</style>\n",
       "<table border=\"1\" class=\"dataframe\">\n",
       "  <thead>\n",
       "    <tr style=\"text-align: right;\">\n",
       "      <th></th>\n",
       "      <th>Fecha</th>\n",
       "      <th>Último</th>\n",
       "      <th>Apertura</th>\n",
       "      <th>Máximo</th>\n",
       "      <th>Mínimo</th>\n",
       "      <th>Vol.</th>\n",
       "      <th>% var.</th>\n",
       "    </tr>\n",
       "  </thead>\n",
       "  <tbody>\n",
       "    <tr>\n",
       "      <th>0</th>\n",
       "      <td>15.12.2024</td>\n",
       "      <td>104.443,0</td>\n",
       "      <td>101.417,9</td>\n",
       "      <td>105.120,9</td>\n",
       "      <td>101.234,9</td>\n",
       "      <td>133,99K</td>\n",
       "      <td>+2.98%</td>\n",
       "    </tr>\n",
       "    <tr>\n",
       "      <th>1</th>\n",
       "      <td>14.12.2024</td>\n",
       "      <td>101.417,7</td>\n",
       "      <td>101.423,7</td>\n",
       "      <td>102.633,0</td>\n",
       "      <td>100.626,3</td>\n",
       "      <td>105,31K</td>\n",
       "      <td>-0.01%</td>\n",
       "    </tr>\n",
       "    <tr>\n",
       "      <th>2</th>\n",
       "      <td>13.12.2024</td>\n",
       "      <td>101.426,2</td>\n",
       "      <td>100.008,3</td>\n",
       "      <td>101.891,2</td>\n",
       "      <td>99.214,2</td>\n",
       "      <td>162,40K</td>\n",
       "      <td>+1.42%</td>\n",
       "    </tr>\n",
       "    <tr>\n",
       "      <th>3</th>\n",
       "      <td>12.12.2024</td>\n",
       "      <td>100.347,3</td>\n",
       "      <td>101.126,3</td>\n",
       "      <td>102.495,3</td>\n",
       "      <td>99.334,5</td>\n",
       "      <td>189,02K</td>\n",
       "      <td>-0,77%</td>\n",
       "    </tr>\n",
       "    <tr>\n",
       "      <th>4</th>\n",
       "      <td>11.12.2024</td>\n",
       "      <td>101.126,2</td>\n",
       "      <td>96.603,2</td>\n",
       "      <td>101.877,1</td>\n",
       "      <td>95.689,5</td>\n",
       "      <td>250,02K</td>\n",
       "      <td>4,69%</td>\n",
       "    </tr>\n",
       "  </tbody>\n",
       "</table>\n",
       "</div>"
      ],
      "text/plain": [
       "        Fecha     Último   Apertura     Máximo     Mínimo     Vol.  % var.\n",
       "0  15.12.2024  104.443,0  101.417,9  105.120,9  101.234,9  133,99K  +2.98%\n",
       "1  14.12.2024  101.417,7  101.423,7  102.633,0  100.626,3  105,31K  -0.01%\n",
       "2  13.12.2024  101.426,2  100.008,3  101.891,2   99.214,2  162,40K  +1.42%\n",
       "3  12.12.2024  100.347,3  101.126,3  102.495,3   99.334,5  189,02K  -0,77%\n",
       "4  11.12.2024  101.126,2   96.603,2  101.877,1   95.689,5  250,02K   4,69%"
      ]
     },
     "execution_count": 12,
     "metadata": {},
     "output_type": "execute_result"
    }
   ],
   "source": [
    "# df = pd.read_csv('/home/alumnadotarde/Descargas/Bitcoin.csv')\n",
    "df = pd.read_csv('./bitcoin.csv', delimiter=',')\n",
    "df.head()"
   ]
  },
  {
   "cell_type": "code",
   "execution_count": 13,
   "metadata": {},
   "outputs": [
    {
     "name": "stdout",
     "output_type": "stream",
     "text": [
      "<class 'pandas.core.frame.DataFrame'>\n",
      "RangeIndex: 4722 entries, 0 to 4721\n",
      "Data columns (total 7 columns):\n",
      " #   Column    Non-Null Count  Dtype \n",
      "---  ------    --------------  ----- \n",
      " 0   Fecha     4722 non-null   object\n",
      " 1   Último    4722 non-null   object\n",
      " 2   Apertura  4722 non-null   object\n",
      " 3   Máximo    4722 non-null   object\n",
      " 4   Mínimo    4722 non-null   object\n",
      " 5   Vol.      4722 non-null   object\n",
      " 6   % var.    4722 non-null   object\n",
      "dtypes: object(7)\n",
      "memory usage: 258.4+ KB\n"
     ]
    }
   ],
   "source": [
    "df.info()"
   ]
  },
  {
   "cell_type": "code",
   "execution_count": 14,
   "metadata": {},
   "outputs": [],
   "source": [
    "if df['Vol.'].dtype == 'object':  # Limpiar solo si el tipo es texto\n",
    "    df['Vol.'] = (\n",
    "        df['Vol.']\n",
    "        .str.replace('K', '*1e3', regex=False)  # Miles\n",
    "        .str.replace('M', '*1e6', regex=False)  # Millones\n",
    "        .str.replace('B', '*1e9', regex=False)  # Miles de millones\n",
    "        .str.replace('.', '', regex=False)  # Eliminar puntos\n",
    "        .str.replace(',', '.', regex=False)  # Reemplazar comas por puntos\n",
    "        .map(eval)  # Evaluar las expresiones matemáticas\n",
    "    )\n"
   ]
  },
  {
   "cell_type": "code",
   "execution_count": 15,
   "metadata": {},
   "outputs": [
    {
     "data": {
      "text/html": [
       "<div>\n",
       "<style scoped>\n",
       "    .dataframe tbody tr th:only-of-type {\n",
       "        vertical-align: middle;\n",
       "    }\n",
       "\n",
       "    .dataframe tbody tr th {\n",
       "        vertical-align: top;\n",
       "    }\n",
       "\n",
       "    .dataframe thead th {\n",
       "        text-align: right;\n",
       "    }\n",
       "</style>\n",
       "<table border=\"1\" class=\"dataframe\">\n",
       "  <thead>\n",
       "    <tr style=\"text-align: right;\">\n",
       "      <th></th>\n",
       "      <th>Fecha</th>\n",
       "      <th>Último</th>\n",
       "      <th>Apertura</th>\n",
       "      <th>Máximo</th>\n",
       "      <th>Mínimo</th>\n",
       "      <th>Vol.</th>\n",
       "      <th>% var.</th>\n",
       "    </tr>\n",
       "  </thead>\n",
       "  <tbody>\n",
       "    <tr>\n",
       "      <th>0</th>\n",
       "      <td>15.12.2024</td>\n",
       "      <td>104443.0</td>\n",
       "      <td>101417.9</td>\n",
       "      <td>105120.9</td>\n",
       "      <td>101234.9</td>\n",
       "      <td>133990.0</td>\n",
       "      <td>+2.98%</td>\n",
       "    </tr>\n",
       "    <tr>\n",
       "      <th>1</th>\n",
       "      <td>14.12.2024</td>\n",
       "      <td>101417.7</td>\n",
       "      <td>101423.7</td>\n",
       "      <td>102633.0</td>\n",
       "      <td>100626.3</td>\n",
       "      <td>105310.0</td>\n",
       "      <td>-0.01%</td>\n",
       "    </tr>\n",
       "    <tr>\n",
       "      <th>2</th>\n",
       "      <td>13.12.2024</td>\n",
       "      <td>101426.2</td>\n",
       "      <td>100008.3</td>\n",
       "      <td>101891.2</td>\n",
       "      <td>99214.2</td>\n",
       "      <td>162400.0</td>\n",
       "      <td>+1.42%</td>\n",
       "    </tr>\n",
       "    <tr>\n",
       "      <th>3</th>\n",
       "      <td>12.12.2024</td>\n",
       "      <td>100347.3</td>\n",
       "      <td>101126.3</td>\n",
       "      <td>102495.3</td>\n",
       "      <td>99334.5</td>\n",
       "      <td>189020.0</td>\n",
       "      <td>-0,77%</td>\n",
       "    </tr>\n",
       "    <tr>\n",
       "      <th>4</th>\n",
       "      <td>11.12.2024</td>\n",
       "      <td>101126.2</td>\n",
       "      <td>96603.2</td>\n",
       "      <td>101877.1</td>\n",
       "      <td>95689.5</td>\n",
       "      <td>250020.0</td>\n",
       "      <td>4,69%</td>\n",
       "    </tr>\n",
       "  </tbody>\n",
       "</table>\n",
       "</div>"
      ],
      "text/plain": [
       "        Fecha    Último  Apertura    Máximo    Mínimo      Vol.  % var.\n",
       "0  15.12.2024  104443.0  101417.9  105120.9  101234.9  133990.0  +2.98%\n",
       "1  14.12.2024  101417.7  101423.7  102633.0  100626.3  105310.0  -0.01%\n",
       "2  13.12.2024  101426.2  100008.3  101891.2   99214.2  162400.0  +1.42%\n",
       "3  12.12.2024  100347.3  101126.3  102495.3   99334.5  189020.0  -0,77%\n",
       "4  11.12.2024  101126.2   96603.2  101877.1   95689.5  250020.0   4,69%"
      ]
     },
     "execution_count": 15,
     "metadata": {},
     "output_type": "execute_result"
    }
   ],
   "source": [
    "for col in ['Último', 'Apertura', 'Máximo', 'Mínimo']:\n",
    "    if df[col].dtype == 'object':  # Limpiar solo si el tipo es texto\n",
    "        df[col] = df[col].str.replace('.', '', regex=False).str.replace(',', '.', regex=False).astype(float)\n",
    "df.head()"
   ]
  },
  {
   "cell_type": "code",
   "execution_count": 16,
   "metadata": {},
   "outputs": [],
   "source": [
    "columns_to_convert = df.columns[df.columns != 'Fecha']  # Seleccionamos todas menos 'Fecha'\n",
    "df[columns_to_convert] = df[columns_to_convert].apply(pd.to_numeric, errors='coerce')"
   ]
  },
  {
   "cell_type": "code",
   "execution_count": 17,
   "metadata": {},
   "outputs": [
    {
     "name": "stdout",
     "output_type": "stream",
     "text": [
      "<class 'pandas.core.frame.DataFrame'>\n",
      "RangeIndex: 4722 entries, 0 to 4721\n",
      "Data columns (total 7 columns):\n",
      " #   Column    Non-Null Count  Dtype  \n",
      "---  ------    --------------  -----  \n",
      " 0   Fecha     4722 non-null   object \n",
      " 1   Último    4722 non-null   float64\n",
      " 2   Apertura  4722 non-null   float64\n",
      " 3   Máximo    4722 non-null   float64\n",
      " 4   Mínimo    4722 non-null   float64\n",
      " 5   Vol.      4722 non-null   float64\n",
      " 6   % var.    0 non-null      float64\n",
      "dtypes: float64(6), object(1)\n",
      "memory usage: 258.4+ KB\n"
     ]
    }
   ],
   "source": [
    "df.info()"
   ]
  },
  {
   "cell_type": "code",
   "execution_count": 20,
   "metadata": {},
   "outputs": [
    {
     "name": "stdout",
     "output_type": "stream",
     "text": [
      "            Último  Apertura    Máximo    Mínimo      Vol.  % var.\n",
      "Último    1.000000  0.999198  0.999662  0.999569  0.096754     NaN\n",
      "Apertura  0.999198  1.000000  0.999618  0.999428  0.097359     NaN\n",
      "Máximo    0.999662  0.999618  1.000000  0.999292  0.097870     NaN\n",
      "Mínimo    0.999569  0.999428  0.999292  1.000000  0.096598     NaN\n",
      "Vol.      0.096754  0.097359  0.097870  0.096598  1.000000     NaN\n",
      "% var.         NaN       NaN       NaN       NaN       NaN     NaN\n"
     ]
    }
   ],
   "source": [
    "# Filtrar solo las columnas de tipo float\n",
    "df_float = df.select_dtypes(include=['float64'])\n",
    "\n",
    "# Calcular la correlación solo entre columnas de tipo float\n",
    "print(df_float.corr())\n"
   ]
  },
  {
   "cell_type": "markdown",
   "metadata": {},
   "source": [
    "- Ultimo, queremos añadir otra variable a elegir y tenga una explicacion(volumen)"
   ]
  }
 ],
 "metadata": {
  "kernelspec": {
   "display_name": "base",
   "language": "python",
   "name": "python3"
  },
  "language_info": {
   "codemirror_mode": {
    "name": "ipython",
    "version": 3
   },
   "file_extension": ".py",
   "mimetype": "text/x-python",
   "name": "python",
   "nbconvert_exporter": "python",
   "pygments_lexer": "ipython3",
   "version": "3.12.4"
  }
 },
 "nbformat": 4,
 "nbformat_minor": 2
}
